{
 "cells": [
  {
   "cell_type": "code",
   "execution_count": 1,
   "metadata": {},
   "outputs": [
    {
     "name": "stdout",
     "output_type": "stream",
     "text": [
      "C://Users/igor-/OneDrive/Área de Trabalho/Kaggle_tests/MNIST/Kaggle\\sample_submission.csv\n",
      "C://Users/igor-/OneDrive/Área de Trabalho/Kaggle_tests/MNIST/Kaggle\\test.csv\n",
      "C://Users/igor-/OneDrive/Área de Trabalho/Kaggle_tests/MNIST/Kaggle\\train.csv\n"
     ]
    }
   ],
   "source": [
    "import numpy as np # linear algebra\n",
    "import pandas as pd # data processing, CSV file I/O (e.g. pd.read_csv)\n",
    "\n",
    "# Input data files are available in the read-only \"../input/\" directory\n",
    "# For example, running this (by clicking run or pressing Shift+Enter) will list all files under the input directory\n",
    "\n",
    "import os\n",
    "for dirname, _, filenames in os.walk('C://Users/igor-/OneDrive/Área de Trabalho/Kaggle_tests/MNIST/Kaggle'):\n",
    "    for filename in filenames:\n",
    "        print(os.path.join(dirname, filename))"
   ]
  },
  {
   "cell_type": "code",
   "execution_count": 2,
   "metadata": {},
   "outputs": [],
   "source": [
    "import pandas as pd\n",
    "import numpy as np\n",
    "import matplotlib.pyplot as plt\n",
    "import seaborn as sns\n",
    "from tensorflow import keras\n",
    "from keras.datasets import mnist\n",
    "import tensorflow as tf\n",
    "import tensorflow_addons as tfa\n",
    "from tensorflow.keras.layers import Input\n",
    "from tensorflow.keras.layers import RandomTranslation, RandomZoom, RandomRotation\n",
    "from tensorflow.keras.layers import Conv2D, MaxPooling2D, BatchNormalization\n",
    "from tensorflow.keras.layers import Flatten, Dense, Dropout\n",
    "from keras.callbacks import EarlyStopping, LearningRateScheduler, ReduceLROnPlateau, ModelCheckpoint, TerminateOnNaN\n",
    "from tensorflow.keras.optimizers import Adam\n",
    "from tensorflow.data import AUTOTUNE\n",
    "from tensorflow.keras.utils import to_categorical\n",
    "from sklearn.model_selection import train_test_split"
   ]
  },
  {
   "cell_type": "code",
   "execution_count": 3,
   "metadata": {},
   "outputs": [],
   "source": [
    "\n",
    "\n",
    "(X_train, y_train), (X_test, y_test) = mnist.load_data()\n",
    "\n",
    "X_train = np.concatenate((X_train, X_test))\n",
    "y_train = np.concatenate((y_train, y_test))\n",
    "\n",
    "valid = pd.read_csv('Kaggle/train.csv').to_numpy()\n",
    "test = pd.read_csv('Kaggle/test.csv').to_numpy()"
   ]
  },
  {
   "cell_type": "code",
   "execution_count": 4,
   "metadata": {},
   "outputs": [
    {
     "name": "stdout",
     "output_type": "stream",
     "text": [
      "(70000, 28, 28, 1) (42000, 28, 28, 1) (28000, 28, 28, 1)\n"
     ]
    }
   ],
   "source": [
    "train_Y = tf.keras.utils.to_categorical(y_train)\n",
    "valid_Y = tf.keras.utils.to_categorical(valid[:,0])\n",
    "\n",
    "train_X = X_train / 255.0\n",
    "valid_X = valid[:,1:] / 255.0\n",
    "test_X = test / 255.0\n",
    "\n",
    "train_X = train_X.reshape(-1, 28, 28, 1)\n",
    "valid_X = valid_X.reshape(-1, 28, 28, 1)\n",
    "test_X = test_X.reshape(-1, 28, 28, 1)\n",
    "\n",
    "print(train_X.shape,valid_X.shape,test_X.shape)"
   ]
  },
  {
   "cell_type": "code",
   "execution_count": 5,
   "metadata": {},
   "outputs": [],
   "source": [
    "BS = 128 \n",
    "EPOCHS = 25\n",
    "STEPS = len(train_X) // BS\n",
    "LABELS = 10"
   ]
  },
  {
   "cell_type": "code",
   "execution_count": 6,
   "metadata": {},
   "outputs": [],
   "source": [
    "train_DS = tf.data.Dataset.from_tensor_slices((train_X, train_Y))\n",
    "train_DS = train_DS.shuffle(STEPS * BS).batch(BS).repeat().prefetch(AUTOTUNE)\n",
    "\n",
    "valid_DS = tf.data.Dataset.from_tensor_slices((valid_X, valid_Y))\n",
    "valid_DS = valid_DS.batch(BS)"
   ]
  }
 ],
 "metadata": {
  "kernelspec": {
   "display_name": "base",
   "language": "python",
   "name": "python3"
  },
  "language_info": {
   "codemirror_mode": {
    "name": "ipython",
    "version": 3
   },
   "file_extension": ".py",
   "mimetype": "text/x-python",
   "name": "python",
   "nbconvert_exporter": "python",
   "pygments_lexer": "ipython3",
   "version": "3.9.15 (main, Nov 24 2022, 14:39:17) [MSC v.1916 64 bit (AMD64)]"
  },
  "orig_nbformat": 4,
  "vscode": {
   "interpreter": {
    "hash": "ed9676846c878c224a8464e5f9393028f8964372026adbc040b4dd81c7461aff"
   }
  }
 },
 "nbformat": 4,
 "nbformat_minor": 2
}
